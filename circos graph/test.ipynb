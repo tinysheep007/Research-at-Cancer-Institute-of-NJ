{
 "cells": [
  {
   "cell_type": "code",
   "execution_count": 4,
   "metadata": {},
   "outputs": [
    {
     "name": "stdout",
     "output_type": "stream",
     "text": [
      "Help on package pycircos:\n",
      "\n",
      "NAME\n",
      "    pycircos\n",
      "\n",
      "PACKAGE CONTENTS\n",
      "    pycircos\n",
      "    tree\n",
      "\n",
      "SUBMODULES\n",
      "    pc\n",
      "    pt\n",
      "\n",
      "FILE\n",
      "    c:\\users\\pzxia\\appdata\\local\\programs\\python\\python38\\lib\\site-packages\\pycircos\\__init__.py\n",
      "\n",
      "\n"
     ]
    },
    {
     "ename": "NameError",
     "evalue": "name 'Gcircos' is not defined",
     "output_type": "error",
     "traceback": [
      "\u001b[1;31m---------------------------------------------------------------------------\u001b[0m",
      "\u001b[1;31mNameError\u001b[0m                                 Traceback (most recent call last)",
      "Cell \u001b[1;32mIn [4], line 4\u001b[0m\n\u001b[0;32m      1\u001b[0m \u001b[38;5;28;01mimport\u001b[39;00m \u001b[38;5;21;01mpycircos\u001b[39;00m \n\u001b[0;32m      2\u001b[0m help(pycircos)\n\u001b[1;32m----> 4\u001b[0m gc \u001b[38;5;241m=\u001b[39m \u001b[43mGcircos\u001b[49m()\n\u001b[0;32m      5\u001b[0m \u001b[38;5;66;03m# Define sectors\u001b[39;00m\n\u001b[0;32m      6\u001b[0m gc\u001b[38;5;241m.\u001b[39mset_sectors([\u001b[38;5;124m\"\u001b[39m\u001b[38;5;124mchr1\u001b[39m\u001b[38;5;124m\"\u001b[39m, \u001b[38;5;124m\"\u001b[39m\u001b[38;5;124mchr2\u001b[39m\u001b[38;5;124m\"\u001b[39m, \u001b[38;5;124m\"\u001b[39m\u001b[38;5;124mchr3\u001b[39m\u001b[38;5;124m\"\u001b[39m], [\u001b[38;5;241m1000\u001b[39m, \u001b[38;5;241m2000\u001b[39m, \u001b[38;5;241m3000\u001b[39m])\n",
      "\u001b[1;31mNameError\u001b[0m: name 'Gcircos' is not defined"
     ]
    }
   ],
   "source": [
    "import pycircos \n",
    "help(pycircos)\n",
    "\n",
    "gc = Gcircos()\n",
    "# Define sectors\n",
    "gc.set_sectors([\"chr1\", \"chr2\", \"chr3\"], [1000, 2000, 3000])\n",
    "\n",
    "# Add data to the plot\n",
    "# Data format: sector, start, end, value, color\n",
    "gc.add_data(\"chr1\", 100, 900, 0.5, \"red\")\n",
    "gc.add_data(\"chr2\", 1100, 1900, 0.7, \"blue\")\n",
    "\n",
    "# Draw the plot\n",
    "gc.draw(\"output.png\")\n"
   ]
  }
 ],
 "metadata": {
  "kernelspec": {
   "display_name": "Python 3",
   "language": "python",
   "name": "python3"
  },
  "language_info": {
   "codemirror_mode": {
    "name": "ipython",
    "version": 3
   },
   "file_extension": ".py",
   "mimetype": "text/x-python",
   "name": "python",
   "nbconvert_exporter": "python",
   "pygments_lexer": "ipython3",
   "version": "3.8.0"
  }
 },
 "nbformat": 4,
 "nbformat_minor": 2
}
