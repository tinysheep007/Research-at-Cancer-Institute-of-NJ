{
 "cells": [
  {
   "cell_type": "markdown",
   "metadata": {},
   "source": [
    "### Sort the chr"
   ]
  },
  {
   "cell_type": "code",
   "execution_count": 8,
   "metadata": {},
   "outputs": [],
   "source": [
    "import pandas as pd\n",
    "\n",
    "# Load the Excel file\n",
    "file_path = './data_TCGA_OV_CNV.csv'\n",
    "df = pd.read_csv(file_path)\n",
    "\n",
    "# Extracting the numerical part from the 'Chromosome' column for sorting\n",
    "df['Chromosome_num'] = df['Chromosome'].str.extract('(\\d+)').astype(float)\n",
    "\n",
    "# Sorting by Chromosome_num and then by the original Chromosome column\n",
    "df_sorted = df.sort_values(by=['Chromosome_num', 'Chromosome']).drop('Chromosome_num', axis=1)\n",
    "\n",
    "# Save the sorted dataframe to a new CSV file\n",
    "sorted_file_path = 'sorted.csv'\n",
    "df_sorted.to_csv(sorted_file_path, index=False)\n"
   ]
  },
  {
   "cell_type": "markdown",
   "metadata": {},
   "source": [
    "### separate amp and del rows"
   ]
  },
  {
   "cell_type": "code",
   "execution_count": 9,
   "metadata": {},
   "outputs": [
    {
     "data": {
      "text/plain": [
       "('./amp.csv', './del.csv')"
      ]
     },
     "execution_count": 9,
     "metadata": {},
     "output_type": "execute_result"
    }
   ],
   "source": [
    "# Load the sorted CSV file\n",
    "sorted_df = pd.read_csv('./sorted.csv')\n",
    "\n",
    "# Splitting the dataframe into two based on the 'amp/del' column\n",
    "amp_df = sorted_df[sorted_df['amp/del'] == 'Amp']\n",
    "del_df = sorted_df[sorted_df['amp/del'] == 'Del']\n",
    "\n",
    "# Save the split dataframes to new CSV files\n",
    "amp_file_path = './amp.csv'\n",
    "del_file_path = './del.csv'\n",
    "amp_df.to_csv(amp_file_path, index=False)\n",
    "del_df.to_csv(del_file_path, index=False)\n",
    "\n",
    "amp_file_path, del_file_path\n"
   ]
  }
 ],
 "metadata": {
  "kernelspec": {
   "display_name": "Python 3",
   "language": "python",
   "name": "python3"
  },
  "language_info": {
   "codemirror_mode": {
    "name": "ipython",
    "version": 3
   },
   "file_extension": ".py",
   "mimetype": "text/x-python",
   "name": "python",
   "nbconvert_exporter": "python",
   "pygments_lexer": "ipython3",
   "version": "3.8.0"
  }
 },
 "nbformat": 4,
 "nbformat_minor": 2
}
