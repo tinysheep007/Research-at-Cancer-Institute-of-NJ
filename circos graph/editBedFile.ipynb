{
 "cells": [
  {
   "cell_type": "code",
   "execution_count": 3,
   "metadata": {},
   "outputs": [
    {
     "data": {
      "text/plain": [
       "'./dist_amp.bed'"
      ]
     },
     "execution_count": 3,
     "metadata": {},
     "output_type": "execute_result"
    }
   ],
   "source": [
    "import pandas as pd\n",
    "\n",
    "# Load the BED file\n",
    "bed_file_path = './amp.bed'\n",
    "bed_data = pd.read_csv(bed_file_path, sep='\\t', header=None, names=['chrom', 'start', 'end', 'q_value'])\n",
    "\n",
    "# Ensure 'start' and 'end' columns are integers\n",
    "bed_data['start'] = pd.to_numeric(bed_data['start'], errors='coerce')\n",
    "bed_data['end'] = pd.to_numeric(bed_data['end'], errors='coerce')\n",
    "\n",
    "# Drop any rows that couldn't be converted to numeric values\n",
    "bed_data = bed_data.dropna(subset=['start', 'end'])\n",
    "\n",
    "# Calculate the maximum of end - start for each chromosome\n",
    "max_length_per_chrom = bed_data.groupby('chrom').apply(lambda x: (x['end'] - x['start']).max())\n",
    "\n",
    "# Sort the index of max_length_per_chrom by converting chromosome names to a sortable format\n",
    "# Here we remove 'chr' prefix and convert the chromosome number to an integer for sorting\n",
    "max_length_per_chrom_sorted = max_length_per_chrom.sort_index(key=lambda x: x.str.replace('chr', '').astype(int))\n",
    "\n",
    "# Display the sorted results\n",
    "max_length_per_chrom_sorted\n",
    "\n",
    "new_bed_data = pd.DataFrame({\n",
    "    '#chrom': max_length_per_chrom_sorted.index,\n",
    "    'chromStart': 0,\n",
    "    'chromEnd': max_length_per_chrom_sorted.values.astype(int),\n",
    "    'name': max_length_per_chrom_sorted.index\n",
    "})\n",
    "\n",
    "# Save the data to a new BED file\n",
    "new_bed_file_path = './dist_amp.bed'\n",
    "new_bed_data.to_csv(new_bed_file_path, sep='\\t', index=False, header=False)\n",
    "\n",
    "new_bed_file_path\n",
    "\n"
   ]
  }
 ],
 "metadata": {
  "kernelspec": {
   "display_name": "Python 3",
   "language": "python",
   "name": "python3"
  },
  "language_info": {
   "codemirror_mode": {
    "name": "ipython",
    "version": 3
   },
   "file_extension": ".py",
   "mimetype": "text/x-python",
   "name": "python",
   "nbconvert_exporter": "python",
   "pygments_lexer": "ipython3",
   "version": "3.8.0"
  }
 },
 "nbformat": 4,
 "nbformat_minor": 2
}
